{
 "cells": [
  {
   "cell_type": "markdown",
   "id": "bcb869d4",
   "metadata": {},
   "source": [
    "# CCT College\n",
    "\n",
    "###### Module Title(s):\t\n",
    "Artificial Inteligence\n",
    "###### Lecturer Name(s):\t\n",
    "David McQuaid\n",
    "###### Assessment Title:\t\n",
    "AI_Lv8_CA2_v8 \n",
    "###### Student Name: \n",
    "Tamiris Rodrigues Duarte\n",
    "###### Student Number:\n",
    "2020294\n",
    "###### Due Date (Deadline):\t\n",
    "Sunday 19th November @ 23:55"
   ]
  },
  {
   "cell_type": "markdown",
   "id": "ea76e5eb",
   "metadata": {},
   "source": [
    "# Questions 1\n",
    "\n",
    "A puzzle has multiple ways of reaching the end solution. Fig. 1 shows a graph that represents all possible routes to the solution. The starting point of the game is represented by A, the solution is represented by S. The other points in the graph are possible intermediary stages. \n",
    "\n",
    "![Figure 1](Picture1.png)\n",
    "\n",
    "\n",
    "(a) The graph in Fig. 1 is a visualisation of the problem. "
   ]
  },
  {
   "cell_type": "markdown",
   "id": "d54d82a8",
   "metadata": {},
   "source": [
    "#### Identify the differences between a graph and a tree. [0-5] \n",
    "\n",
    "Three and Graph are both non-linear structures, which means both are data structures where data are not arranged in a sequential order. However, they are pretty different from each other in structure and properties. \n",
    "\n",
    "Tree: Used to represent hierarchy; set of nodes that are joined together to form a hierarchy; only one path is allowed between two nodes or vertices; has exactly one root node and does not have any parent node; loops are not allowed; theoretically less complex. \n",
    "\n",
    "connected and acyclic: there are bit cycles (loop?) in the graph\n"
   ]
  },
  {
   "cell_type": "markdown",
   "id": "b13ac132",
   "metadata": {},
   "source": [
    "#### Explain in detail how the graph is an abstraction of the problem [0-5]"
   ]
  },
  {
   "cell_type": "markdown",
   "id": "2659038a",
   "metadata": {},
   "source": [
    "#### Identify the advantages of using a visualisation such as the one showing in Fig. 1 [0-5]"
   ]
  },
  {
   "cell_type": "markdown",
   "id": "faa59935",
   "metadata": {},
   "source": [
    "(b) Demonstrate how Dijkstra’s algorithm would find the shortest path to the solution in Fig.1 through diagrams and written explanation of each stage. [0-25]"
   ]
  },
  {
   "cell_type": "code",
   "execution_count": 3,
   "id": "17c8bae8",
   "metadata": {},
   "outputs": [],
   "source": [
    "### TEST ###\n",
    "import heapq\n",
    "\n",
    "\n",
    "def calculate_distances(graph, starting_vertex):\n",
    "    distances = {vertex: float('infinity') for vertex in graph}\n",
    "    distances[starting_vertex] = 0\n",
    "\n",
    "    pq = [(0, starting_vertex)]\n",
    "    while len(pq) > 0:\n",
    "        current_distance, current_vertex = heapq.heappop(pq)\n",
    "\n",
    "        # Nodes can get added to the priority queue multiple times. We only\n",
    "        # process a vertex the first time we remove it from the priority queue.\n",
    "        if current_distance > distances[current_vertex]:\n",
    "            continue\n",
    "\n",
    "        for neighbor, weight in graph[current_vertex].items():\n",
    "            distance = current_distance + weight\n",
    "\n",
    "            # Only consider this new path if it's better than any path we've\n",
    "            # already found.\n",
    "            if distance < distances[neighbor]:\n",
    "                distances[neighbor] = distance\n",
    "                heapq.heappush(pq, (distance, neighbor))\n",
    "\n",
    "    return distances"
   ]
  },
  {
   "cell_type": "code",
   "execution_count": 5,
   "id": "dd71e487",
   "metadata": {},
   "outputs": [],
   "source": [
    "da_graph = {\n",
    "    'A': {'B': 1, 'C': 5, 'H': 2},\n",
    "    'B': {'C': 2, 'A': 1, 'D': 4},\n",
    "    'C': {'B': 2, 'A': 5, 'G': 1},\n",
    "    'D': {'B': 4, 'L': 7, 'F': 7, 'E': 4,},\n",
    "    'E': {'D': 4, 'F': 3, 'W': 6},\n",
    "    'F': {'G': 2, 'D': 7, 'E': 3},\n",
    "    'G': {'L': 3, 'F': 2, 'C': 1},    \n",
    "    'H': {'A': 2, 'K': 5, 'J': 9},\n",
    "    'J': {'H': 9, 'K': 3, 'N': 6},    \n",
    "    'K': {'H': 5, 'J': 3, 'L': 5},\n",
    "    'L': {'K': 5, 'G': 3, 'D': 7, 'W': 8, 'V': 10, 'M': 4,'N': 3},\n",
    "    'N': {'S': 7, 'L': 3, 'J': 6, 'P': 4},\n",
    "    'M': {'L': 4, 'P': 2, 'Q': 10},\n",
    "    'P': {'N': 4, 'R': 5, 'M': 2},\n",
    "    'Q': {'S': 8, 'M': 10, 'W': 4},\n",
    "    'R': {'S': 4, 'T': 3, 'P': 5},\n",
    "    'S': {'N': 7, 'U': 2, 'V': 6, 'T': 4, 'Q': 8,},\n",
    "    'T': {'R': 3, 'S': 4, 'U': 1},\n",
    "    'U': {'S': 2, 'T': 1, 'U': 3},\n",
    "    'V': {'S': 6, 'L': 10, 'U': 3, 'W': 5},\n",
    "    'W': {'L': 8, 'Q': 3, 'U': 5, 'E': 6},    \n",
    "}"
   ]
  },
  {
   "cell_type": "code",
   "execution_count": 6,
   "id": "0b713799",
   "metadata": {},
   "outputs": [
    {
     "ename": "KeyError",
     "evalue": "'X'",
     "output_type": "error",
     "traceback": [
      "\u001b[1;31m---------------------------------------------------------------------------\u001b[0m",
      "\u001b[1;31mKeyError\u001b[0m                                  Traceback (most recent call last)",
      "Cell \u001b[1;32mIn[6], line 1\u001b[0m\n\u001b[1;32m----> 1\u001b[0m \u001b[38;5;28mprint\u001b[39m(calculate_distances(da_graph, \u001b[38;5;124m'\u001b[39m\u001b[38;5;124mX\u001b[39m\u001b[38;5;124m'\u001b[39m))\n",
      "Cell \u001b[1;32mIn[3], line 18\u001b[0m, in \u001b[0;36mcalculate_distances\u001b[1;34m(graph, starting_vertex)\u001b[0m\n\u001b[0;32m     15\u001b[0m \u001b[38;5;28;01mif\u001b[39;00m current_distance \u001b[38;5;241m>\u001b[39m distances[current_vertex]:\n\u001b[0;32m     16\u001b[0m     \u001b[38;5;28;01mcontinue\u001b[39;00m\n\u001b[1;32m---> 18\u001b[0m \u001b[38;5;28;01mfor\u001b[39;00m neighbor, weight \u001b[38;5;129;01min\u001b[39;00m graph[current_vertex]\u001b[38;5;241m.\u001b[39mitems():\n\u001b[0;32m     19\u001b[0m     distance \u001b[38;5;241m=\u001b[39m current_distance \u001b[38;5;241m+\u001b[39m weight\n\u001b[0;32m     21\u001b[0m     \u001b[38;5;66;03m# Only consider this new path if it's better than any path we've\u001b[39;00m\n\u001b[0;32m     22\u001b[0m     \u001b[38;5;66;03m# already found.\u001b[39;00m\n",
      "\u001b[1;31mKeyError\u001b[0m: 'X'"
     ]
    }
   ],
   "source": [
    "print(calculate_distances(da_graph, 'X'))"
   ]
  },
  {
   "cell_type": "markdown",
   "id": "59c668f1",
   "metadata": {},
   "source": [
    "# Question 2\n",
    "\n",
    "The creator of the puzzle has been told that the A* algorithm is more efficient at finding the shortest path because it uses heuristics. Compare the performance of Dijkstra’s algorithm and the A* search algorithm, referring to heuristics, to find the shortest path to the problem by implementing both algorithms programmatically and comparing the solutions generated in Mark-down. Refer to the complexity of the algorithms and compare the actual time it takes for the solutions to be processed. [0-60]"
   ]
  },
  {
   "cell_type": "markdown",
   "id": "1400bd49",
   "metadata": {},
   "source": [
    "# References\n",
    "\n",
    "https://www.tutorialspoint.com/difference-between-tree-and-graph\n",
    "\n",
    "https://www.geeksforgeeks.org/difference-between-graph-and-tree/\n",
    "\n",
    "https://techdifferences.com/difference-between-tree-and-graph.html"
   ]
  }
 ],
 "metadata": {
  "kernelspec": {
   "display_name": "Python 3 (ipykernel)",
   "language": "python",
   "name": "python3"
  },
  "language_info": {
   "codemirror_mode": {
    "name": "ipython",
    "version": 3
   },
   "file_extension": ".py",
   "mimetype": "text/x-python",
   "name": "python",
   "nbconvert_exporter": "python",
   "pygments_lexer": "ipython3",
   "version": "3.11.5"
  }
 },
 "nbformat": 4,
 "nbformat_minor": 5
}
