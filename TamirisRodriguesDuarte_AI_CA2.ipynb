{
 "cells": [
  {
   "cell_type": "markdown",
   "id": "bcb869d4",
   "metadata": {},
   "source": [
    "# CCT College\n",
    "\n",
    "###### Module Title(s):\t\n",
    "Artificial Inteligence\n",
    "###### Lecturer Name(s):\t\n",
    "David McQuaid\n",
    "###### Assessment Title:\t\n",
    "AI_Lv8_CA2_v8 \n",
    "###### Student Name: \n",
    "Tamiris Rodrigues Duarte\n",
    "###### Student Number:\n",
    "2020294\n",
    "###### Due Date (Deadline):\t\n",
    "Sunday 19th November @ 23:55"
   ]
  },
  {
   "cell_type": "markdown",
   "id": "ea76e5eb",
   "metadata": {},
   "source": [
    "# Questions 1\n",
    "\n",
    "A puzzle has multiple ways of reaching the end solution. Fig. 1 shows a graph that represents all possible routes to the solution. The starting point of the game is represented by A, the solution is represented by S. The other points in the graph are possible intermediary stages. \n",
    "\n",
    "![Figure 1](Picture1.png)\n",
    "\n",
    "\n",
    "(a) The graph in Fig. 1 is a visualisation of the problem. "
   ]
  },
  {
   "cell_type": "markdown",
   "id": "d54d82a8",
   "metadata": {},
   "source": [
    "#### Identify the differences between a graph and a tree. [0-5] \n",
    "\n",
    "Three and Graph are both non-linear structures, which means both are data structures where data are not arranged in a sequential order. However, they are pretty different from each other in structure and properties. \n",
    "\n",
    "Tree: Used to represent hierarchy; set of nodes that are joined together to form a hierarchy; only one path is allowed between two nodes or vertices; has exactly one root node and does not have any parent node; loops are not allowed; theoretically less complex. \n",
    "\n",
    "connected and acyclic: there are bit cycles (loop?) in the graph\n"
   ]
  },
  {
   "cell_type": "markdown",
   "id": "b13ac132",
   "metadata": {},
   "source": [
    "#### Explain in detail how the graph is an abstraction of the problem [0-5]"
   ]
  },
  {
   "cell_type": "markdown",
   "id": "2659038a",
   "metadata": {},
   "source": [
    "#### Identify the advantages of using a visualisation such as the one showing in Fig. 1 [0-5]"
   ]
  },
  {
   "cell_type": "code",
   "execution_count": null,
   "id": "f642afea",
   "metadata": {},
   "outputs": [],
   "source": []
  },
  {
   "cell_type": "markdown",
   "id": "faa59935",
   "metadata": {},
   "source": [
    "(b) Demonstrate how Dijkstra’s algorithm would find the shortest path to the solution in Fig.1 through diagrams and written explanation of each stage. [0-25]"
   ]
  },
  {
   "cell_type": "markdown",
   "id": "59c668f1",
   "metadata": {},
   "source": [
    "# Question 2\n",
    "\n",
    "The creator of the puzzle has been told that the A* algorithm is more efficient at finding the shortest path because it uses heuristics. Compare the performance of Dijkstra’s algorithm and the A* search algorithm, referring to heuristics, to find the shortest path to the problem by implementing both algorithms programmatically and comparing the solutions generated in Mark-down. Refer to the complexity of the algorithms and compare the actual time it takes for the solutions to be processed. [0-60]"
   ]
  },
  {
   "cell_type": "markdown",
   "id": "1400bd49",
   "metadata": {},
   "source": [
    "# References\n",
    "\n",
    "https://www.tutorialspoint.com/difference-between-tree-and-graph\n",
    "\n",
    "https://www.geeksforgeeks.org/difference-between-graph-and-tree/\n",
    "\n",
    "https://techdifferences.com/difference-between-tree-and-graph.html"
   ]
  }
 ],
 "metadata": {
  "kernelspec": {
   "display_name": "Python 3 (ipykernel)",
   "language": "python",
   "name": "python3"
  },
  "language_info": {
   "codemirror_mode": {
    "name": "ipython",
    "version": 3
   },
   "file_extension": ".py",
   "mimetype": "text/x-python",
   "name": "python",
   "nbconvert_exporter": "python",
   "pygments_lexer": "ipython3",
   "version": "3.11.5"
  }
 },
 "nbformat": 4,
 "nbformat_minor": 5
}
