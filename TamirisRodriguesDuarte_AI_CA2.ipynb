{
 "cells": [
  {
   "cell_type": "markdown",
   "id": "bcb869d4",
   "metadata": {},
   "source": [
    "# CCT College\n",
    "\n",
    "###### Module Title(s):\t\n",
    "Artificial Inteligence\n",
    "###### Lecturer Name(s):\t\n",
    "David McQuaid\n",
    "###### Assessment Title:\t\n",
    "AI_Lv8_CA2_v8 \n",
    "###### Student Name: \n",
    "Tamiris Rodrigues Duarte\n",
    "###### Student Number:\n",
    "2020294\n",
    "###### Due Date (Deadline):\t\n",
    "Sunday 19th November @ 23:55\n",
    "\n",
    "###### GitHub:\t\n",
    "https://github.com/tamirisrd/AI_CA2"
   ]
  },
  {
   "cell_type": "markdown",
   "id": "ea76e5eb",
   "metadata": {},
   "source": [
    "# Question 1\n",
    "\n",
    "A puzzle has multiple ways of reaching the end solution. Fig. 1 shows a graph that represents all possible routes to the solution. The starting point of the game is represented by A, the solution is represented by S. The other points in the graph are possible intermediary stages. \n",
    "\n",
    "![Figure 1](Picture1.png)\n",
    "\n",
    "\n",
    "(a) The graph in Fig. 1 is a visualisation of the problem. "
   ]
  },
  {
   "cell_type": "markdown",
   "id": "d54d82a8",
   "metadata": {},
   "source": [
    "#### Identify the differences between a graph and a tree. [0-5] \n",
    "\n",
    "Three and Graph are both non-linear structures, which means both are data structures where data are not arranged in a sequential order. However, they are pretty different from each other in structure and properties. \n",
    "\n",
    "A Graph is an arrangement of nodes or vertices (V) connected by edges (E), illustrating these nodes' relationships. The vertices are represented by circles, and the edges are line segments connecting the circles (V). In a graph, there are different ways of structuring. More than one path is allowed, which means the V can be connected to any number of V through E; E can contain weight; it can have loops, dismissing the need for a root node. \n",
    "\n",
    "\n",
    "While Graphs represent a network, a Tree is used to illustrate a hierarchy. In a Tree graph model, the data is organized in sorted order and has n-1 edges. Only one path is allowed between the nodes, which means every node is connected to every other node by exactly one path. Also, the connection in this model is acyclic thus, it does not contain any. Nonetheless, it contains a root node as a starting point. Trees can be binary or non-binary; in the latter, there can be any number of children in each node, but the former cannot have more than two children.\n",
    "\n",
    "\n",
    "![Figure 2](treeandgraph.png)\n",
    "source: techdifferences.com/difference-between-tree-and-graph.html"
   ]
  },
  {
   "cell_type": "markdown",
   "id": "b13ac132",
   "metadata": {},
   "source": [
    "#### Explain in detail how the graph is an abstraction of the problem [0-5]"
   ]
  },
  {
   "cell_type": "markdown",
   "id": "2659038a",
   "metadata": {},
   "source": [
    "#### Identify the advantages of using a visualisation such as the one showing in Fig. 1 [0-5]"
   ]
  },
  {
   "cell_type": "markdown",
   "id": "faa59935",
   "metadata": {},
   "source": [
    "(b) Demonstrate how Dijkstra’s algorithm would find the shortest path to the solution in Fig.1 through diagrams and written explanation of each stage. [0-25]"
   ]
  },
  {
   "cell_type": "markdown",
   "id": "59c668f1",
   "metadata": {},
   "source": [
    "# Question 2\n",
    "\n",
    "The creator of the puzzle has been told that the A* algorithm is more efficient at finding the shortest path because it uses heuristics. Compare the performance of Dijkstra’s algorithm and the A* search algorithm, referring to heuristics, to find the shortest path to the problem by implementing both algorithms programmatically and comparing the solutions generated in Mark-down. Refer to the complexity of the algorithms and compare the actual time it takes for the solutions to be processed. [0-60]"
   ]
  },
  {
   "cell_type": "code",
   "execution_count": 22,
   "id": "b2d06852",
   "metadata": {},
   "outputs": [],
   "source": [
    "fig1_graph = {\n",
    "    'A': {'B': 1, 'C': 5, 'H': 2},\n",
    "    'B': {'C': 2, 'A': 1, 'D': 4},\n",
    "    'C': {'B': 2, 'A': 5, 'G': 1},\n",
    "    'D': {'B': 4, 'L': 7, 'F': 7, 'E': 4,},\n",
    "    'E': {'D': 4, 'F': 3, 'W': 6},\n",
    "    'F': {'G': 2, 'D': 7, 'E': 3},\n",
    "    'G': {'L': 3, 'F': 2, 'C': 1},    \n",
    "    'H': {'A': 2, 'K': 5, 'J': 9},\n",
    "    'J': {'H': 9, 'K': 3, 'N': 6},    \n",
    "    'K': {'H': 5, 'J': 3, 'L': 5},\n",
    "    'L': {'K': 5, 'G': 3, 'D': 7, 'W': 8, 'V': 10, 'M': 4,'N': 3},\n",
    "    'N': {'S': 7, 'L': 3, 'J': 6, 'P': 4},\n",
    "    'M': {'L': 4, 'P': 2, 'Q': 10},\n",
    "    'P': {'N': 4, 'R': 5, 'M': 2},\n",
    "    'Q': {'S': 8, 'M': 10, 'W': 4},\n",
    "    'R': {'S': 4, 'T': 3, 'P': 5},\n",
    "    'S': {'N': 7, 'U': 2, 'V': 6, 'T': 4, 'Q': 8,},\n",
    "    'T': {'R': 3, 'S': 4, 'U': 1},\n",
    "    'U': {'S': 2, 'T': 1, 'U': 3},\n",
    "    'V': {'S': 6, 'L': 10, 'U': 3, 'W': 5},\n",
    "    'W': {'L': 8, 'Q': 3, 'U': 5, 'E': 6},    \n",
    "}"
   ]
  },
  {
   "cell_type": "code",
   "execution_count": 35,
   "id": "14e40f18",
   "metadata": {},
   "outputs": [],
   "source": [
    "import heapq\n",
    "import time\n",
    "\n",
    "# Dijkstra Algorithm\n",
    "def dijAl(graph, start, goal):\n",
    "    distances = {vertex: float('infinity') for vertex in graph}\n",
    "    distances[start] = 0\n",
    "    priority_queue = [(0, start)]\n",
    "    \n",
    "    \n",
    "    while priority_queue:\n",
    "        current_distance, current_vertex = heapq.heappop(priority_queue)\n",
    "        \n",
    "        if current_distance > distances [current_vertex]:\n",
    "            continue\n",
    "            \n",
    "        for neighbor, weight in graph[current_vertex].items():\n",
    "            distance = current_distance + weight\n",
    "            \n",
    "            if distance < distances [neighbor]:\n",
    "                distances[neighbor] = distance\n",
    "                heapq.heappush(priority_queue, (distances,neighbor))\n",
    "                \n",
    "        return distances\n",
    "    \n",
    "def init (self, )\n",
    "\n",
    "astar(graph, start, goal, heuristic):\n",
    "    distances = {vertex: float('in')}"
   ]
  },
  {
   "cell_type": "code",
   "execution_count": 32,
   "id": "204adbd3",
   "metadata": {},
   "outputs": [
    {
     "ename": "TypeError",
     "evalue": "'>' not supported between instances of 'dict' and 'int'",
     "output_type": "error",
     "traceback": [
      "\u001b[1;31m---------------------------------------------------------------------------\u001b[0m",
      "\u001b[1;31mTypeError\u001b[0m                                 Traceback (most recent call last)",
      "Cell \u001b[1;32mIn[32], line 6\u001b[0m\n\u001b[0;32m      4\u001b[0m \u001b[38;5;66;03m# Run time for Dijkstra's algorithm\u001b[39;00m\n\u001b[0;32m      5\u001b[0m start_time \u001b[38;5;241m=\u001b[39m time\u001b[38;5;241m.\u001b[39mperf_counter()\n\u001b[1;32m----> 6\u001b[0m dijkstra_path \u001b[38;5;241m=\u001b[39m dijAl(fig1_graph, start, goal)\n\u001b[0;32m      7\u001b[0m dijkstra_time \u001b[38;5;241m=\u001b[39m time\u001b[38;5;241m.\u001b[39mperf_counter()\n",
      "Cell \u001b[1;32mIn[31], line 14\u001b[0m, in \u001b[0;36mdijAl\u001b[1;34m(graph, start, goal)\u001b[0m\n\u001b[0;32m     11\u001b[0m \u001b[38;5;28;01mwhile\u001b[39;00m priority_queue:\n\u001b[0;32m     12\u001b[0m     current_distance, current_vertex \u001b[38;5;241m=\u001b[39m heapq\u001b[38;5;241m.\u001b[39mheappop(priority_queue)\n\u001b[1;32m---> 14\u001b[0m     \u001b[38;5;28;01mif\u001b[39;00m current_distance \u001b[38;5;241m>\u001b[39m distances [current_vertex]:\n\u001b[0;32m     15\u001b[0m         \u001b[38;5;28;01mcontinue\u001b[39;00m\n\u001b[0;32m     17\u001b[0m     \u001b[38;5;28;01mfor\u001b[39;00m neighbor, weight \u001b[38;5;129;01min\u001b[39;00m graph[current_vertex]\u001b[38;5;241m.\u001b[39mitems():\n",
      "\u001b[1;31mTypeError\u001b[0m: '>' not supported between instances of 'dict' and 'int'"
     ]
    }
   ],
   "source": [
    "start = 'A'\n",
    "goal = 'W'\n",
    "\n",
    "# Run time for Dijkstra's algorithm\n",
    "start_time = time.perf_counter()\n",
    "dijkstra_path = dijAl(fig1_graph, start, goal)\n",
    "dijkstra_time = time.perf_counter()\n",
    "\n",
    "# # Measure time for A* search algorithm\n",
    "# start_time = time.perf_counter()\n",
    "# astar_path = astar(fig1_graph, start, goal, h)\n",
    "# astar_time = time.perf_counter() - start_time"
   ]
  },
  {
   "cell_type": "code",
   "execution_count": 36,
   "id": "47e4d7c4",
   "metadata": {},
   "outputs": [
    {
     "name": "stdout",
     "output_type": "stream",
     "text": [
      "Dijkstra's Shortest Path: {'A': 0, 'B': 1, 'C': 5, 'D': inf, 'E': inf, 'F': inf, 'G': inf, 'H': 2, 'J': inf, 'K': inf, 'L': inf, 'N': inf, 'M': inf, 'P': inf, 'Q': inf, 'R': inf, 'S': inf, 'T': inf, 'U': inf, 'V': inf, 'W': inf}\n",
      "Time taken by Dijkstra's algorithm: 373566.6071271 seconds\n"
     ]
    }
   ],
   "source": [
    "print(\"Dijkstra's Shortest Path:\", dijkstra_path)\n",
    "print(\"Time taken by Dijkstra's algorithm:\", dijkstra_time, \"seconds\")\n",
    "\n",
    "# print(\"\\nA* Shortest Path:\", astar_path)\n",
    "# print(\"Time taken by A* algorithm:\", astar_time, \"seconds\")"
   ]
  },
  {
   "cell_type": "markdown",
   "id": "1400bd49",
   "metadata": {},
   "source": [
    "# References\n",
    "\n",
    "Question 1, a:\n",
    "\n",
    "https://www.tutorialspoint.com/difference-between-tree-and-graph\n",
    "\n",
    "https://www.geeksforgeeks.org/difference-between-graph-and-tree/\n",
    "\n",
    "https://techdifferences.com/difference-between-tree-and-graph.html\n",
    "\n",
    "\n",
    "Question 2\n",
    "\n",
    "https://www.udacity.com/blog/2021/10/implementing-dijkstras-algorithm-in-python.html\n",
    "\n",
    "https://www.javatpoint.com/dijkstras-algorithm\n",
    "\n",
    "https://www.geeksforgeeks.org/a-search-algorithm/\n",
    "\n",
    "https://www.redblobgames.com/pathfinding/a-star/implementation.html\n",
    "\n",
    "Dijkstra's algorithm classroom file\n",
    "\n",
    "A star classroom file"
   ]
  }
 ],
 "metadata": {
  "kernelspec": {
   "display_name": "Python 3 (ipykernel)",
   "language": "python",
   "name": "python3"
  },
  "language_info": {
   "codemirror_mode": {
    "name": "ipython",
    "version": 3
   },
   "file_extension": ".py",
   "mimetype": "text/x-python",
   "name": "python",
   "nbconvert_exporter": "python",
   "pygments_lexer": "ipython3",
   "version": "3.11.5"
  }
 },
 "nbformat": 4,
 "nbformat_minor": 5
}
