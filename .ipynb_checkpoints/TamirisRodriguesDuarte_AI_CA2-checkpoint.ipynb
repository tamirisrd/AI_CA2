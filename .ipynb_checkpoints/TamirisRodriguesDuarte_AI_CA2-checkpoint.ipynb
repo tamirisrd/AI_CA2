{
 "cells": [
  {
   "cell_type": "markdown",
   "id": "bcb869d4",
   "metadata": {},
   "source": [
    "# CCT College\n",
    "\n",
    "###### Module Title(s):\t\n",
    "Artificial Inteligence\n",
    "###### Lecturer Name(s):\t\n",
    "David McQuaid\n",
    "###### Assessment Title:\t\n",
    "AI_Lv8_CA2_v8 \n",
    "###### Student Name: \n",
    "Tamiris Rodrigues Duarte\n",
    "###### Student Number:\n",
    "2020294\n",
    "###### Due Date (Deadline):\t\n",
    "Sunday 19th November @ 23:55"
   ]
  },
  {
   "cell_type": "markdown",
   "id": "ea76e5eb",
   "metadata": {},
   "source": [
    "# Questions 1\n",
    "\n",
    "A puzzle has multiple ways of reaching the end solution. Fig. 1 shows a graph that represents all possible routes to the solution. The starting point of the game is represented by A, the solution is represented by S. The other points in the graph are possible intermediary stages. \n",
    "\n",
    "![Figure 1](Picture1.png)\n",
    "\n",
    "\n",
    "(a) The graph in Fig. 1 is a visualisation of the problem. "
   ]
  },
  {
   "cell_type": "markdown",
   "id": "d54d82a8",
   "metadata": {},
   "source": [
    "#### Identify the differences between a graph and a tree. [0-5] \n",
    "\n",
    "Three and Graph are both non-linear structures, which means both are data structures where data are not arranged in a sequential order. However, they are pretty different from each other in structure and properties. \n",
    "\n",
    "A Graph is a collection of nodes or vertices connected by edges which depict the relationships between these nodes. Undirected Graph, directed graph, weighted graph, cryclic graph, acyclic graph connected and acyclic: there are bit cycles (loop?) in the graph\n",
    "\n",
    "Tree: is a type of graph used to represent hierarchy; set of nodes that are joined together to form a hierarchy; only one path is allowed between two nodes or vertices; has exactly one root node and does not have any parent node; loops are not allowed; theoretically less complex. Binary tree, binary search tree, balanced tree, b-tree\n",
    "\n"
   ]
  },
  {
   "cell_type": "markdown",
   "id": "b13ac132",
   "metadata": {},
   "source": [
    "#### Explain in detail how the graph is an abstraction of the problem [0-5]"
   ]
  },
  {
   "cell_type": "markdown",
   "id": "2659038a",
   "metadata": {},
   "source": [
    "#### Identify the advantages of using a visualisation such as the one showing in Fig. 1 [0-5]"
   ]
  },
  {
   "cell_type": "markdown",
   "id": "faa59935",
   "metadata": {},
   "source": [
    "(b) Demonstrate how Dijkstra’s algorithm would find the shortest path to the solution in Fig.1 through diagrams and written explanation of each stage. [0-25]"
   ]
  },
  {
   "cell_type": "markdown",
   "id": "59c668f1",
   "metadata": {},
   "source": [
    "# Question 2\n",
    "\n",
    "The creator of the puzzle has been told that the A* algorithm is more efficient at finding the shortest path because it uses heuristics. Compare the performance of Dijkstra’s algorithm and the A* search algorithm, referring to heuristics, to find the shortest path to the problem by implementing both algorithms programmatically and comparing the solutions generated in Mark-down. Refer to the complexity of the algorithms and compare the actual time it takes for the solutions to be processed. [0-60]"
   ]
  },
  {
   "cell_type": "code",
   "execution_count": 67,
   "id": "0e9472ee",
   "metadata": {},
   "outputs": [],
   "source": [
    "import heapq\n",
    "\n",
    "# dijkstra Algorithm\n",
    "def dijAl(graph, start, goal):\n",
    "    priority_queue = [(0, start, [])] \n",
    "    visited = set()\n",
    "\n",
    "    while priority_queue:\n",
    "        cost, current_node, path = heapq.heappop(priority_queue)\n",
    "\n",
    "        if current_node in visited:\n",
    "            continue\n",
    "\n",
    "        visited.add(current_node)\n",
    "        path = path + [current_node]\n",
    "\n",
    "        if current_node == goal:\n",
    "            return path\n",
    "\n",
    "        for neighbor, weight in graph[current_node].items():\n",
    "            if neighbor not in visited:\n",
    "                heapq.heappush(priority_queue, (cost + weight, neighbor, path))\n",
    "\n",
    "    return None\n",
    "        \n",
    "# A* search algorithm\n",
    "def heuristic_euclidean(node, end_node):\n",
    "    return h(((node.position[0] - end_node.position[0]) ** 2) + \n",
    "                ((node.position[1] - end_node.position[1]) ** 2))\n",
    "\n",
    "def astar(graph, start, goal, h):\n",
    "    priority_queue = [(0, start, [])]\n",
    "    visited = set()\n",
    "\n",
    "    while priority_queue:\n",
    "        cost, current_node, path = heapq.heappop(priority_queue)\n",
    "\n",
    "        if current_node in visited:\n",
    "            continue\n",
    "\n",
    "        visited.add(current_node)\n",
    "        path = path + [current_node]\n",
    "\n",
    "        if current_node == goal:\n",
    "            return path\n",
    "\n",
    "        for neighbor, weight in graph[current_node].items():\n",
    "            if neighbor not in visited:\n",
    "                h = heuristic(neighbor, goal)\n",
    "                heapq.heappush(priority_queue, (cost + weight + h, neighbor, path))\n",
    "\n",
    "    return None"
   ]
  },
  {
   "cell_type": "code",
   "execution_count": 68,
   "id": "b2d06852",
   "metadata": {},
   "outputs": [],
   "source": [
    "fig1_graph = {\n",
    "    'A': {'B': 1, 'C': 5, 'H': 2},\n",
    "    'B': {'C': 2, 'A': 1, 'D': 4},\n",
    "    'C': {'B': 2, 'A': 5, 'G': 1},\n",
    "    'D': {'B': 4, 'L': 7, 'F': 7, 'E': 4,},\n",
    "    'E': {'D': 4, 'F': 3, 'W': 6},\n",
    "    'F': {'G': 2, 'D': 7, 'E': 3},\n",
    "    'G': {'L': 3, 'F': 2, 'C': 1},    \n",
    "    'H': {'A': 2, 'K': 5, 'J': 9},\n",
    "    'J': {'H': 9, 'K': 3, 'N': 6},    \n",
    "    'K': {'H': 5, 'J': 3, 'L': 5},\n",
    "    'L': {'K': 5, 'G': 3, 'D': 7, 'W': 8, 'V': 10, 'M': 4,'N': 3},\n",
    "    'N': {'S': 7, 'L': 3, 'J': 6, 'P': 4},\n",
    "    'M': {'L': 4, 'P': 2, 'Q': 10},\n",
    "    'P': {'N': 4, 'R': 5, 'M': 2},\n",
    "    'Q': {'S': 8, 'M': 10, 'W': 4},\n",
    "    'R': {'S': 4, 'T': 3, 'P': 5},\n",
    "    'S': {'N': 7, 'U': 2, 'V': 6, 'T': 4, 'Q': 8,},\n",
    "    'T': {'R': 3, 'S': 4, 'U': 1},\n",
    "    'U': {'S': 2, 'T': 1, 'U': 3},\n",
    "    'V': {'S': 6, 'L': 10, 'U': 3, 'W': 5},\n",
    "    'W': {'L': 8, 'Q': 3, 'U': 5, 'E': 6},    \n",
    "}"
   ]
  },
  {
   "cell_type": "code",
   "execution_count": 69,
   "id": "6403ae13",
   "metadata": {},
   "outputs": [
    {
     "name": "stdout",
     "output_type": "stream",
     "text": [
      "['A', 'B', 'C', 'G', 'L', 'N', 'S', 'U']\n"
     ]
    },
    {
     "ename": "TypeError",
     "evalue": "astar() missing 1 required positional argument: 'heuristic'",
     "output_type": "error",
     "traceback": [
      "\u001b[1;31m---------------------------------------------------------------------------\u001b[0m",
      "\u001b[1;31mTypeError\u001b[0m                                 Traceback (most recent call last)",
      "Cell \u001b[1;32mIn[69], line 2\u001b[0m\n\u001b[0;32m      1\u001b[0m \u001b[38;5;28mprint\u001b[39m(dijAl(fig1_graph,\u001b[38;5;124m'\u001b[39m\u001b[38;5;124mA\u001b[39m\u001b[38;5;124m'\u001b[39m,\u001b[38;5;124m'\u001b[39m\u001b[38;5;124mU\u001b[39m\u001b[38;5;124m'\u001b[39m))\n\u001b[1;32m----> 2\u001b[0m \u001b[38;5;28mprint\u001b[39m(astar(fig1_graph, \u001b[38;5;124m'\u001b[39m\u001b[38;5;124mA\u001b[39m\u001b[38;5;124m'\u001b[39m, \u001b[38;5;124m'\u001b[39m\u001b[38;5;124mU\u001b[39m\u001b[38;5;124m'\u001b[39m))\n",
      "\u001b[1;31mTypeError\u001b[0m: astar() missing 1 required positional argument: 'heuristic'"
     ]
    }
   ],
   "source": [
    "print(dijAl(fig1_graph,'A','U'))\n",
    "print(astar(fig1_graph, 'A', 'U'))\n"
   ]
  },
  {
   "cell_type": "markdown",
   "id": "1400bd49",
   "metadata": {},
   "source": [
    "# References\n",
    "\n",
    "Question 1, a:\n",
    "\n",
    "https://www.tutorialspoint.com/difference-between-tree-and-graph\n",
    "\n",
    "https://www.geeksforgeeks.org/difference-between-graph-and-tree/\n",
    "\n",
    "https://techdifferences.com/difference-between-tree-and-graph.html\n",
    "\n",
    "\n",
    "Question 2\n",
    "https://www.udacity.com/blog/2021/10/implementing-dijkstras-algorithm-in-python.html\n",
    "\n",
    "https://www.geeksforgeeks.org/a-search-algorithm/"
   ]
  }
 ],
 "metadata": {
  "kernelspec": {
   "display_name": "Python 3 (ipykernel)",
   "language": "python",
   "name": "python3"
  },
  "language_info": {
   "codemirror_mode": {
    "name": "ipython",
    "version": 3
   },
   "file_extension": ".py",
   "mimetype": "text/x-python",
   "name": "python",
   "nbconvert_exporter": "python",
   "pygments_lexer": "ipython3",
   "version": "3.11.5"
  }
 },
 "nbformat": 4,
 "nbformat_minor": 5
}
