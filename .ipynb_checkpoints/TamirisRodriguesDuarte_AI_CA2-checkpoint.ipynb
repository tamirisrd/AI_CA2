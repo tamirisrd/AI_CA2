{
 "cells": [
  {
   "cell_type": "markdown",
   "id": "bcb869d4",
   "metadata": {},
   "source": [
    "# CCT College\n",
    "\n",
    "###### Module Title(s):\t\n",
    "Artificial Inteligence\n",
    "###### Lecturer Name(s):\t\n",
    "David McQuaid\n",
    "###### Assessment Title:\t\n",
    "AI_Lv8_CA2_v8 \n",
    "###### Student Name: \n",
    "Tamiris Rodrigues Duarte\n",
    "###### Student Number:\n",
    "2020294\n",
    "###### Due Date (Deadline):\t\n",
    "Sunday 19th November @ 23:55\n",
    "\n",
    "###### GitHub:\t\n",
    "https://github.com/tamirisrd/AI_CA2"
   ]
  },
  {
   "cell_type": "markdown",
   "id": "ea76e5eb",
   "metadata": {},
   "source": [
    "# Questions 1\n",
    "\n",
    "A puzzle has multiple ways of reaching the end solution. Fig. 1 shows a graph that represents all possible routes to the solution. The starting point of the game is represented by A, the solution is represented by S. The other points in the graph are possible intermediary stages. \n",
    "\n",
    "![Figure 1](Picture1.png)\n",
    "\n",
    "\n",
    "(a) The graph in Fig. 1 is a visualisation of the problem. "
   ]
  },
  {
   "cell_type": "markdown",
   "id": "d54d82a8",
   "metadata": {},
   "source": [
    "#### Identify the differences between a graph and a tree. [0-5] \n",
    "\n",
    "Three and Graph are both non-linear structures, which means both are data structures where data are not arranged in a sequential order. However, they are pretty different from each other in structure and properties. \n",
    "\n",
    "A Graph is a collection of nodes or vertices connected by edges which depict the relationships between these nodes. Undirected Graph, directed graph, weighted graph, cryclic graph, acyclic graph connected and acyclic: there are bit cycles (loop?) in the graph\n",
    "\n",
    "Tree: is a type of graph used to represent hierarchy; set of nodes that are joined together to form a hierarchy; only one path is allowed between two nodes or vertices; has exactly one root node and does not have any parent node; loops are not allowed; theoretically less complex. Binary tree, binary search tree, balanced tree, b-tree\n",
    "\n"
   ]
  },
  {
   "cell_type": "markdown",
   "id": "b13ac132",
   "metadata": {},
   "source": [
    "#### Explain in detail how the graph is an abstraction of the problem [0-5]"
   ]
  },
  {
   "cell_type": "markdown",
   "id": "2659038a",
   "metadata": {},
   "source": [
    "#### Identify the advantages of using a visualisation such as the one showing in Fig. 1 [0-5]"
   ]
  },
  {
   "cell_type": "markdown",
   "id": "faa59935",
   "metadata": {},
   "source": [
    "(b) Demonstrate how Dijkstra’s algorithm would find the shortest path to the solution in Fig.1 through diagrams and written explanation of each stage. [0-25]"
   ]
  },
  {
   "cell_type": "markdown",
   "id": "59c668f1",
   "metadata": {},
   "source": [
    "# Question 2\n",
    "\n",
    "The creator of the puzzle has been told that the A* algorithm is more efficient at finding the shortest path because it uses heuristics. Compare the performance of Dijkstra’s algorithm and the A* search algorithm, referring to heuristics, to find the shortest path to the problem by implementing both algorithms programmatically and comparing the solutions generated in Mark-down. Refer to the complexity of the algorithms and compare the actual time it takes for the solutions to be processed. [0-60]"
   ]
  },
  {
   "cell_type": "code",
   "execution_count": 36,
   "id": "0e9472ee",
   "metadata": {},
   "outputs": [],
   "source": [
    "import heapq\n",
    "import time\n",
    "import math\n",
    "\n",
    "# dijkstra Algorithm\n",
    "def dijAl(graph, start, goal):\n",
    "    priority_queue = [(0, start, [])] \n",
    "    visited = set()\n",
    "\n",
    "    while priority_queue:\n",
    "        cost, current_node, path = heapq.heappop(priority_queue)\n",
    "\n",
    "        if current_node in visited:\n",
    "            continue\n",
    "\n",
    "        visited.add(current_node)\n",
    "        path = path + [current_node]\n",
    "\n",
    "        if current_node == goal:\n",
    "            return path\n",
    "\n",
    "        for neighbor, weight in graph[current_node].items():\n",
    "            if neighbor not in visited:\n",
    "                heapq.heappush(priority_queue, (cost + weight, neighbor, path))\n",
    "\n",
    "    return None\n",
    "        \n",
    "# A* search algorithm\n",
    "def euclidean_h(graph, start, goal):\n",
    "    h = math.sqrt ((start.x - goal.x)**2 + \n",
    "                   (start.y - goal.y)**2)\n",
    "\n",
    "    return h\n",
    "    \n",
    "def astar(graph, start, goal):\n",
    "    priority_queue = [(0, start, [])]\n",
    "    visited = set()\n",
    "\n",
    "    while priority_queue:\n",
    "        cost, current_node, path = heapq.heappop(priority_queue)\n",
    "\n",
    "        if current_node in visited:\n",
    "            continue\n",
    "\n",
    "        visited.add(current_node)\n",
    "        path = path + [current_node]\n",
    "\n",
    "        if current_node == goal:\n",
    "            return path\n",
    "\n",
    "        for neighbor, weight in graph[current_node].items():\n",
    "            if neighbor not in visited:\n",
    "                heuristic = euclidean_h(graph, neighbor, goal)\n",
    "                heapq.heappush(priority_queue, (cost + weight + heuristic, neighbor, path))   \n",
    "                \n",
    "    return None"
   ]
  },
  {
   "cell_type": "code",
   "execution_count": 37,
   "id": "b2d06852",
   "metadata": {},
   "outputs": [],
   "source": [
    "fig1_graph = {\n",
    "    'A': {'B': 1, 'C': 5, 'H': 2},\n",
    "    'B': {'C': 2, 'A': 1, 'D': 4},\n",
    "    'C': {'B': 2, 'A': 5, 'G': 1},\n",
    "    'D': {'B': 4, 'L': 7, 'F': 7, 'E': 4,},\n",
    "    'E': {'D': 4, 'F': 3, 'W': 6},\n",
    "    'F': {'G': 2, 'D': 7, 'E': 3},\n",
    "    'G': {'L': 3, 'F': 2, 'C': 1},    \n",
    "    'H': {'A': 2, 'K': 5, 'J': 9},\n",
    "    'J': {'H': 9, 'K': 3, 'N': 6},    \n",
    "    'K': {'H': 5, 'J': 3, 'L': 5},\n",
    "    'L': {'K': 5, 'G': 3, 'D': 7, 'W': 8, 'V': 10, 'M': 4,'N': 3},\n",
    "    'N': {'S': 7, 'L': 3, 'J': 6, 'P': 4},\n",
    "    'M': {'L': 4, 'P': 2, 'Q': 10},\n",
    "    'P': {'N': 4, 'R': 5, 'M': 2},\n",
    "    'Q': {'S': 8, 'M': 10, 'W': 4},\n",
    "    'R': {'S': 4, 'T': 3, 'P': 5},\n",
    "    'S': {'N': 7, 'U': 2, 'V': 6, 'T': 4, 'Q': 8,},\n",
    "    'T': {'R': 3, 'S': 4, 'U': 1},\n",
    "    'U': {'S': 2, 'T': 1, 'U': 3},\n",
    "    'V': {'S': 6, 'L': 10, 'U': 3, 'W': 5},\n",
    "    'W': {'L': 8, 'Q': 3, 'U': 5, 'E': 6},    \n",
    "}"
   ]
  },
  {
   "cell_type": "code",
   "execution_count": 38,
   "id": "6d0ad423",
   "metadata": {},
   "outputs": [
    {
     "ename": "KeyError",
     "evalue": "'x'",
     "output_type": "error",
     "traceback": [
      "\u001b[1;31m---------------------------------------------------------------------------\u001b[0m",
      "\u001b[1;31mKeyError\u001b[0m                                  Traceback (most recent call last)",
      "Cell \u001b[1;32mIn[38], line 11\u001b[0m\n\u001b[0;32m      9\u001b[0m \u001b[38;5;66;03m# Measure time for A* search algorithm\u001b[39;00m\n\u001b[0;32m     10\u001b[0m start_time \u001b[38;5;241m=\u001b[39m time\u001b[38;5;241m.\u001b[39mperf_counter()\n\u001b[1;32m---> 11\u001b[0m astar_path \u001b[38;5;241m=\u001b[39m astar(fig1_graph, start, goal)\n\u001b[0;32m     12\u001b[0m astar_time \u001b[38;5;241m=\u001b[39m time\u001b[38;5;241m.\u001b[39mperf_counter() \u001b[38;5;241m-\u001b[39m start_time\n",
      "Cell \u001b[1;32mIn[36], line 53\u001b[0m, in \u001b[0;36mastar\u001b[1;34m(graph, start, goal)\u001b[0m\n\u001b[0;32m     51\u001b[0m     \u001b[38;5;28;01mfor\u001b[39;00m neighbor, weight \u001b[38;5;129;01min\u001b[39;00m graph[current_node]\u001b[38;5;241m.\u001b[39mitems():\n\u001b[0;32m     52\u001b[0m         \u001b[38;5;28;01mif\u001b[39;00m neighbor \u001b[38;5;129;01mnot\u001b[39;00m \u001b[38;5;129;01min\u001b[39;00m visited:\n\u001b[1;32m---> 53\u001b[0m             heuristic \u001b[38;5;241m=\u001b[39m euclidean_h(graph, neighbor, goal)\n\u001b[0;32m     54\u001b[0m             heapq\u001b[38;5;241m.\u001b[39mheappush(priority_queue, (cost \u001b[38;5;241m+\u001b[39m weight \u001b[38;5;241m+\u001b[39m heuristic, neighbor, path))   \n\u001b[0;32m     56\u001b[0m \u001b[38;5;28;01mreturn\u001b[39;00m \u001b[38;5;28;01mNone\u001b[39;00m\n",
      "Cell \u001b[1;32mIn[36], line 30\u001b[0m, in \u001b[0;36meuclidean_h\u001b[1;34m(graph, start, goal)\u001b[0m\n\u001b[0;32m     29\u001b[0m \u001b[38;5;28;01mdef\u001b[39;00m \u001b[38;5;21meuclidean_h\u001b[39m(graph, start, goal):\n\u001b[1;32m---> 30\u001b[0m     h \u001b[38;5;241m=\u001b[39m math\u001b[38;5;241m.\u001b[39msqrt ((graph[start][\u001b[38;5;124m'\u001b[39m\u001b[38;5;124mx\u001b[39m\u001b[38;5;124m'\u001b[39m] \u001b[38;5;241m-\u001b[39m graph[goal][\u001b[38;5;124m'\u001b[39m\u001b[38;5;124mx\u001b[39m\u001b[38;5;124m'\u001b[39m])\u001b[38;5;241m*\u001b[39m\u001b[38;5;241m*\u001b[39m\u001b[38;5;241m2\u001b[39m \u001b[38;5;241m+\u001b[39m \n\u001b[0;32m     31\u001b[0m                    (graph[start][\u001b[38;5;124m'\u001b[39m\u001b[38;5;124my\u001b[39m\u001b[38;5;124m'\u001b[39m] \u001b[38;5;241m-\u001b[39m graph[goal][\u001b[38;5;124m'\u001b[39m\u001b[38;5;124my\u001b[39m\u001b[38;5;124m'\u001b[39m])\u001b[38;5;241m*\u001b[39m\u001b[38;5;241m*\u001b[39m\u001b[38;5;241m2\u001b[39m)\n\u001b[0;32m     33\u001b[0m     \u001b[38;5;28;01mreturn\u001b[39;00m h\n",
      "\u001b[1;31mKeyError\u001b[0m: 'x'"
     ]
    }
   ],
   "source": [
    "start = 'A'\n",
    "goal = 'W'\n",
    "\n",
    "# Measure time for Dijkstra's algorithm\n",
    "start_time = time.perf_counter()\n",
    "dijkstra_path = dijAl(fig1_graph, start, goal)\n",
    "dijkstra_time = time.perf_counter() - start_time\n",
    "\n",
    "# Measure time for A* search algorithm\n",
    "start_time = time.perf_counter()\n",
    "astar_path = astar(fig1_graph, start, goal)\n",
    "astar_time = time.perf_counter() - start_time"
   ]
  },
  {
   "cell_type": "code",
   "execution_count": 25,
   "id": "5e84dc8b",
   "metadata": {},
   "outputs": [
    {
     "name": "stdout",
     "output_type": "stream",
     "text": [
      "Dijkstra's Shortest Path: ['A', 'B', 'C', 'G', 'F', 'E', 'W']\n",
      "Time taken by Dijkstra's algorithm: 0.00019839999731630087 seconds\n",
      "\n",
      "A* Shortest Path: ['A', 'B', 'C', 'G', 'F', 'E', 'W']\n",
      "Time taken by A* algorithm: 0.0003530000103637576 seconds\n"
     ]
    }
   ],
   "source": [
    "print(\"Dijkstra's Shortest Path:\", dijkstra_path)\n",
    "print(\"Time taken by Dijkstra's algorithm:\", dijkstra_time, \"seconds\")\n",
    "\n",
    "print(\"\\nA* Shortest Path:\", astar_path)\n",
    "print(\"Time taken by A* algorithm:\", astar_time, \"seconds\")"
   ]
  },
  {
   "cell_type": "markdown",
   "id": "1400bd49",
   "metadata": {},
   "source": [
    "# References\n",
    "\n",
    "Question 1, a:\n",
    "\n",
    "https://www.tutorialspoint.com/difference-between-tree-and-graph\n",
    "\n",
    "https://www.geeksforgeeks.org/difference-between-graph-and-tree/\n",
    "\n",
    "https://techdifferences.com/difference-between-tree-and-graph.html\n",
    "\n",
    "\n",
    "Question 2\n",
    "\n",
    "https://www.udacity.com/blog/2021/10/implementing-dijkstras-algorithm-in-python.html\n",
    "\n",
    "https://www.javatpoint.com/dijkstras-algorithm\n",
    "\n",
    "https://www.geeksforgeeks.org/a-search-algorithm/\n",
    "\n",
    "https://www.redblobgames.com/pathfinding/a-star/implementation.html\n",
    "\n"
   ]
  }
 ],
 "metadata": {
  "kernelspec": {
   "display_name": "Python 3 (ipykernel)",
   "language": "python",
   "name": "python3"
  },
  "language_info": {
   "codemirror_mode": {
    "name": "ipython",
    "version": 3
   },
   "file_extension": ".py",
   "mimetype": "text/x-python",
   "name": "python",
   "nbconvert_exporter": "python",
   "pygments_lexer": "ipython3",
   "version": "3.11.5"
  }
 },
 "nbformat": 4,
 "nbformat_minor": 5
}
